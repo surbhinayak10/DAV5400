{
 "cells": [
  {
   "cell_type": "markdown",
   "metadata": {},
   "source": [
    "# Analysis on history of water consumption in the New York City Water Supply System (Based on New York City Census population)"
   ]
  },
  {
   "cell_type": "code",
   "execution_count": 1,
   "metadata": {},
   "outputs": [
    {
     "data": {
      "text/plain": [
       "numpy.ndarray"
      ]
     },
     "execution_count": 1,
     "metadata": {},
     "output_type": "execute_result"
    }
   ],
   "source": [
    "#importing pandas and numpy module\n",
    "import pandas\n",
    "import numpy as np\n",
    "\n",
    "# suppress scientific notation\n",
    "np.set_printoptions(suppress = True)\n",
    "\n",
    "# reading the data file from GitHub and converting to a NumPy ndarray object\n",
    "\n",
    "nyc_water = pandas.read_csv('https://raw.githubusercontent.com/surbhinayak10/DAV5400/main/M3_Data.csv').to_numpy()\n",
    "# verify you have an ndarray object\n",
    "type(nyc_water)"
   ]
  },
  {
   "cell_type": "markdown",
   "metadata": {},
   "source": [
    "To Solve the below analytical question, I have first transposed the data array so that each raw data column will be coverted as an element of the array & thus making it easier to perform operations on the columns available in the raw data.   "
   ]
  },
  {
   "cell_type": "code",
   "execution_count": 2,
   "metadata": {},
   "outputs": [
    {
     "data": {
      "text/plain": [
       "array([[   1979. ,    1980. ,    1981. ,    1982. ,    1983. ,    1984. ,\n",
       "           1985. ,    1986. ,    1987. ,    1988. ,    1989. ,    1990. ,\n",
       "           1991. ,    1992. ,    1993. ,    1994. ,    1995. ,    1996. ,\n",
       "           1997. ,    1998. ,    1999. ,    2000. ,    2001. ,    2002. ,\n",
       "           2003. ,    2004. ,    2005. ,    2006. ,    2007. ,    2008. ,\n",
       "           2009. ,    2010. ,    2011. ,    2012. ,    2013. ,    2014. ,\n",
       "           2015. ,    2016. ,    2017. ,    2018. ,    2019. ],\n",
       "       [7102100. , 7071639. , 7089241. , 7109105. , 7181224. , 7234514. ,\n",
       "        7274054. , 7319246. , 7342476. , 7353719. , 7344175. , 7335650. ,\n",
       "        7374501. , 7428944. , 7506166. , 7570458. , 7633040. , 7697812. ,\n",
       "        7773443. , 7858259. , 7947660. , 8008278. , 8024963.5, 8041649. ,\n",
       "        8058334.5, 8075020. , 8091705.5, 8108391. , 8125076.5, 8141762. ,\n",
       "        8158447.5, 8175133. , 8272963. , 8348032. , 8398739. , 8437387. ,\n",
       "        8468181. , 8475976. , 8438271. , 8398748. , 8336817. ],\n",
       "       [   1512. ,    1506. ,    1309. ,    1382. ,    1424. ,    1465. ,\n",
       "           1326. ,    1351. ,    1447. ,    1484. ,    1402. ,    1424. ,\n",
       "           1469. ,    1369. ,    1368.5,    1357.7,    1325.7,    1297.9,\n",
       "           1205.5,    1219.5,    1237.2,    1240.4,    1184. ,    1135.6,\n",
       "           1093.7,    1099.5,    1138. ,    1069. ,    1114. ,    1098. ,\n",
       "           1007.5,    1039. ,    1021. ,    1009.1,    1006.1,     996. ,\n",
       "           1009. ,    1002. ,     990.2,    1007.5,     987.4],\n",
       "       [    213. ,     213. ,     185. ,     194. ,     198. ,     203. ,\n",
       "            182. ,     185. ,     197. ,     202. ,     191. ,     194. ,\n",
       "            199. ,     184. ,     182. ,     179. ,     174. ,     169. ,\n",
       "            155. ,     155. ,     156. ,     155. ,     148. ,     141. ,\n",
       "            136. ,     136. ,     141. ,     132. ,     137. ,     135. ,\n",
       "            123. ,     127. ,     123. ,     121. ,     120. ,     118. ,\n",
       "            119. ,     118. ,     117. ,     120. ,     118. ]])"
      ]
     },
     "execution_count": 2,
     "metadata": {},
     "output_type": "execute_result"
    }
   ],
   "source": [
    "nyc_water_each_col_val=nyc_water.T\n",
    "nyc_water_each_col_val"
   ]
  },
  {
   "cell_type": "markdown",
   "metadata": {},
   "source": [
    "<b>Analysis 1</b>. What is the maximum yearly NYC consumption of water in millions of gallons per day?"
   ]
  },
  {
   "cell_type": "markdown",
   "metadata": {},
   "source": [
    "<b> Approach </b> - As we have already trasnposed the array so now we have a row for each column in the dataset. The row3 (after the trasposed of array) is yearly NYC consumption of water (in millions of gallons per day) and we are using amax() function for getting max value."
   ]
  },
  {
   "cell_type": "code",
   "execution_count": 3,
   "metadata": {},
   "outputs": [
    {
     "name": "stdout",
     "output_type": "stream",
     "text": [
      "The maximum yearly NYC consumption of water in millions of gallons per day is 1512.0\n"
     ]
    }
   ],
   "source": [
    "max_consumption_mil_gal=np.amax(nyc_water_each_col_val[2])\n",
    "print('The maximum yearly NYC consumption of water in millions of gallons per day is',max_consumption_mil_gal)"
   ]
  },
  {
   "cell_type": "markdown",
   "metadata": {},
   "source": [
    "<b>Analysis 2</b>. How many calendar years are represented within this data set? NumPy's shape command is one way to findout."
   ]
  },
  {
   "cell_type": "markdown",
   "metadata": {},
   "source": [
    "<b>Question 2</b>. How many calendar years are represented within this data set? NumPy's shape command is one way to findout."
   ]
  },
  {
   "cell_type": "code",
   "execution_count": 5,
   "metadata": {},
   "outputs": [
    {
     "name": "stdout",
     "output_type": "stream",
     "text": [
      "Year column is [1979. 1980. 1981. 1982. 1983. 1984. 1985. 1986. 1987. 1988. 1989. 1990.\n",
      " 1991. 1992. 1993. 1994. 1995. 1996. 1997. 1998. 1999. 2000. 2001. 2002.\n",
      " 2003. 2004. 2005. 2006. 2007. 2008. 2009. 2010. 2011. 2012. 2013. 2014.\n",
      " 2015. 2016. 2017. 2018. 2019.]\n",
      " \n",
      "41 calendar years are represented within this data set\n"
     ]
    }
   ],
   "source": [
    "print('Year column is',nyc_water_each_col_val[0])\n",
    "print(' ')\n",
    "print(len(nyc_water_each_col_val[0]),'calendar years are represented within this data set')"
   ]
  },
  {
   "cell_type": "markdown",
   "metadata": {},
   "source": [
    "Another approach to this analytical query could be to calculate the number of calendar years within this data set by finding the shape of array beacuse total number of rows will be equal to the number of years"
   ]
  },
  {
   "cell_type": "code",
   "execution_count": 6,
   "metadata": {},
   "outputs": [
    {
     "name": "stdout",
     "output_type": "stream",
     "text": [
      "(41, 4)\n"
     ]
    }
   ],
   "source": [
    "print(nyc_water.shape)"
   ]
  },
  {
   "cell_type": "markdown",
   "metadata": {},
   "source": [
    "<b>Analysis 3</b>. What is the mean and the standard deviation of the per capita daily water consumption?"
   ]
  },
  {
   "cell_type": "markdown",
   "metadata": {},
   "source": [
    "<b>Approach</b> - The per capita daily water consumption is row3 in our trasnposed array so we are using `mean` and `std` functions for getting the respective mean and standard deviation of the `per capita daily water consumption`."
   ]
  },
  {
   "cell_type": "code",
   "execution_count": 7,
   "metadata": {},
   "outputs": [
    {
     "name": "stdout",
     "output_type": "stream",
     "text": [
      "the mean value is : 158.415 and the standard deviation is : 31.847 of the per capita daily water consumption\n"
     ]
    }
   ],
   "source": [
    "Per_capita_mean = round(np.mean(nyc_water_each_col_val[3]),3)\n",
    "Per_capita_sd = round(np.std(nyc_water_each_col_val[3]),3)\n",
    "print('the mean value is :', Per_capita_mean,'and the standard deviation is :',Per_capita_sd,\n",
    "      'of the per capita daily water consumption')"
   ]
  },
  {
   "cell_type": "markdown",
   "metadata": {},
   "source": [
    "<b>Analysis 4</b>. What is the increase or decrease in population from year to year? Use NumPy's diff function to create an array of differences and save that to a variable called \"pop_diff\", then print that variable to the screen."
   ]
  },
  {
   "cell_type": "markdown",
   "metadata": {},
   "source": [
    "<b>Approach</b> - As mentioned in the notes, The increase or decrease in population from year to year can be calculated using the `diff` function and ultimately storing the output in `pop_diff` variable."
   ]
  },
  {
   "cell_type": "code",
   "execution_count": 8,
   "metadata": {},
   "outputs": [
    {
     "name": "stdout",
     "output_type": "stream",
     "text": [
      "[-30461.   17602.   19864.   72119.   53290.   39540.   45192.   23230.\n",
      "  11243.   -9544.   -8525.   38851.   54443.   77222.   64292.   62582.\n",
      "  64772.   75631.   84816.   89401.   60618.   16685.5  16685.5  16685.5\n",
      "  16685.5  16685.5  16685.5  16685.5  16685.5  16685.5  16685.5  97830.\n",
      "  75069.   50707.   38648.   30794.    7795.  -37705.  -39523.  -61931. ]\n"
     ]
    }
   ],
   "source": [
    "pop_diff=np.array(np.diff(nyc_water_each_col_val[1]))\n",
    "print(pop_diff)"
   ]
  }
 ],
 "metadata": {
  "kernelspec": {
   "display_name": "Python 3",
   "language": "python",
   "name": "python3"
  },
  "language_info": {
   "codemirror_mode": {
    "name": "ipython",
    "version": 3
   },
   "file_extension": ".py",
   "mimetype": "text/x-python",
   "name": "python",
   "nbconvert_exporter": "python",
   "pygments_lexer": "ipython3",
   "version": "3.7.3"
  }
 },
 "nbformat": 4,
 "nbformat_minor": 2
}
