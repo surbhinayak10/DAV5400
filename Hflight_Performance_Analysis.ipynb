{
 "cells": [
  {
   "cell_type": "markdown",
   "metadata": {},
   "source": [
    "<h2><center><img src=\"https://engineering.nyu.edu/sites/default/files/styles/content_header_default_1x/public/2020-06/yeshiva-university-katz-main-img.jpg?h=b69e0e0e&itok=PWrA3fKb\" width=180 height=150 />Analytics Programming (DAV-5400) </center></h2>"
   ]
  },
  {
   "cell_type": "markdown",
   "metadata": {},
   "source": [
    "### Module_4 Assignment ( Pandas Series & Dataframe Objects)\n",
    "#### Submitted By - Surbhi Nayak (snayak@mail.yu.edu)\n",
    "\n",
    "\n"
   ]
  },
  {
   "cell_type": "markdown",
   "metadata": {},
   "source": [
    "<h1><center> Hflights DataSet</center></h1>\n",
    "\n",
    "<img src=\"https://media.cntraveler.com/photos/5be477cf2e350417aea9dc08/master/w_1600%2Cc_limit/CNT_Intel_Plane_taking_off_TM-Detwiler_110718.jpg\" width=500 height=200 />\n"
   ]
  },
  {
   "cell_type": "markdown",
   "metadata": {},
   "source": [
    "## Introduction -"
   ]
  },
  {
   "cell_type": "markdown",
   "metadata": {},
   "source": [
    "\n",
    "Data set sourced originally from the US Bureau of Transportation Statistics:\n",
    "https://www.transtats.bts.gov/DatabaseInfo.asp?DB_ID=120&Link=0\n",
    "\n",
    "The data set contains information and metrics for commercial domestic (USA) airline flights that departed from 2 separate airports located in Houston, TX (IAH and HOU) during the 2011 calendar year.\n",
    "\n",
    "A summary / description of the data set can be found here:\n",
    "https://cran.r-project.org/web/packages/hflights/hflights.pdf"
   ]
  },
  {
   "cell_type": "markdown",
   "metadata": {},
   "source": [
    "**The flight attributes provided within the data set are as follows**:\n",
    "\n",
    "• Year, Month, DayofMonth: date of departure\n",
    "\n",
    "• DayOfWeek: day of week of departure (useful for removing weekend effects)\n",
    "\n",
    "• DepTime: departure time (in local time, hhmm)\n",
    "\n",
    "• ArrTime: arrival time (in local time, hhmm)\n",
    "\n",
    "• UniqueCarrier: unique abbreviation for a carrier\n",
    "\n",
    "• FlightNum: flight number\n",
    "\n",
    "• TailNum: airplane tail number\n",
    "\n",
    "• ActualElapsedTime: elapsed time of flight, in minutes\n",
    "\n",
    "• AirTime: flight time, in minutes\n",
    "\n",
    "• ArrDelay: arrival delay, in minutes,\n",
    "\n",
    "• DepDelay: departure delay, in minutes\n",
    "\n",
    "• Origin: origin airport code\n",
    "\n",
    "• Dest: destination airport code\n",
    "\n",
    "• Distance: distance of flight, in miles\n",
    "\n",
    "• TaxiIn: taxi in time in minutes\n",
    "\n",
    "• TaxiOut: taxi out time in minutes\n",
    "\n",
    "• Cancelled: cancelled indicator: 1 = Yes, 0 = No\n",
    "\n",
    "• CancellationCode: reason for cancellation: A = carrier, B = weather, C = national air system, D = security\n",
    "\n",
    "• Diverted: diverted indicator: 1 = Yes, 0 = No"
   ]
  },
  {
   "cell_type": "markdown",
   "metadata": {},
   "source": [
    "Importing pandas library using import function."
   ]
  },
  {
   "cell_type": "code",
   "execution_count": 1,
   "metadata": {},
   "outputs": [],
   "source": [
    "#importing pandas library\n",
    "import pandas as pd"
   ]
  },
  {
   "cell_type": "markdown",
   "metadata": {},
   "source": [
    "Loading the data set in python environment using pandas function and creating `DataFrame`. Data set CSV file is located at GitHub repository."
   ]
  },
  {
   "cell_type": "code",
   "execution_count": 2,
   "metadata": {},
   "outputs": [],
   "source": [
    "filename = 'https://raw.githubusercontent.com/surbhinayak10/DAV5400/main/hflights.csv'\n",
    "\n",
    "# using read_csv function for loading the data into dataframe\n",
    "hflight_df = pd.read_csv(filename)"
   ]
  },
  {
   "cell_type": "markdown",
   "metadata": {},
   "source": [
    "Checking Data first 5 rows using head() function."
   ]
  },
  {
   "cell_type": "code",
   "execution_count": 3,
   "metadata": {},
   "outputs": [
    {
     "data": {
      "text/html": [
       "<div>\n",
       "<style scoped>\n",
       "    .dataframe tbody tr th:only-of-type {\n",
       "        vertical-align: middle;\n",
       "    }\n",
       "\n",
       "    .dataframe tbody tr th {\n",
       "        vertical-align: top;\n",
       "    }\n",
       "\n",
       "    .dataframe thead th {\n",
       "        text-align: right;\n",
       "    }\n",
       "</style>\n",
       "<table border=\"1\" class=\"dataframe\">\n",
       "  <thead>\n",
       "    <tr style=\"text-align: right;\">\n",
       "      <th></th>\n",
       "      <th>Year</th>\n",
       "      <th>Month</th>\n",
       "      <th>DayofMonth</th>\n",
       "      <th>DayOfWeek</th>\n",
       "      <th>DepTime</th>\n",
       "      <th>ArrTime</th>\n",
       "      <th>UniqueCarrier</th>\n",
       "      <th>FlightNum</th>\n",
       "      <th>TailNum</th>\n",
       "      <th>ActualElapsedTime</th>\n",
       "      <th>...</th>\n",
       "      <th>ArrDelay</th>\n",
       "      <th>DepDelay</th>\n",
       "      <th>Origin</th>\n",
       "      <th>Dest</th>\n",
       "      <th>Distance</th>\n",
       "      <th>TaxiIn</th>\n",
       "      <th>TaxiOut</th>\n",
       "      <th>Cancelled</th>\n",
       "      <th>CancellationCode</th>\n",
       "      <th>Diverted</th>\n",
       "    </tr>\n",
       "  </thead>\n",
       "  <tbody>\n",
       "    <tr>\n",
       "      <th>0</th>\n",
       "      <td>2011</td>\n",
       "      <td>1</td>\n",
       "      <td>1</td>\n",
       "      <td>6</td>\n",
       "      <td>1400.0</td>\n",
       "      <td>1500.0</td>\n",
       "      <td>AA</td>\n",
       "      <td>428</td>\n",
       "      <td>N576AA</td>\n",
       "      <td>60.0</td>\n",
       "      <td>...</td>\n",
       "      <td>-10.0</td>\n",
       "      <td>0.0</td>\n",
       "      <td>IAH</td>\n",
       "      <td>DFW</td>\n",
       "      <td>224</td>\n",
       "      <td>7.0</td>\n",
       "      <td>13.0</td>\n",
       "      <td>0</td>\n",
       "      <td>NaN</td>\n",
       "      <td>0</td>\n",
       "    </tr>\n",
       "    <tr>\n",
       "      <th>1</th>\n",
       "      <td>2011</td>\n",
       "      <td>1</td>\n",
       "      <td>2</td>\n",
       "      <td>7</td>\n",
       "      <td>1401.0</td>\n",
       "      <td>1501.0</td>\n",
       "      <td>AA</td>\n",
       "      <td>428</td>\n",
       "      <td>N557AA</td>\n",
       "      <td>60.0</td>\n",
       "      <td>...</td>\n",
       "      <td>-9.0</td>\n",
       "      <td>1.0</td>\n",
       "      <td>IAH</td>\n",
       "      <td>DFW</td>\n",
       "      <td>224</td>\n",
       "      <td>6.0</td>\n",
       "      <td>9.0</td>\n",
       "      <td>0</td>\n",
       "      <td>NaN</td>\n",
       "      <td>0</td>\n",
       "    </tr>\n",
       "    <tr>\n",
       "      <th>2</th>\n",
       "      <td>2011</td>\n",
       "      <td>1</td>\n",
       "      <td>3</td>\n",
       "      <td>1</td>\n",
       "      <td>1352.0</td>\n",
       "      <td>1502.0</td>\n",
       "      <td>AA</td>\n",
       "      <td>428</td>\n",
       "      <td>N541AA</td>\n",
       "      <td>70.0</td>\n",
       "      <td>...</td>\n",
       "      <td>-8.0</td>\n",
       "      <td>-8.0</td>\n",
       "      <td>IAH</td>\n",
       "      <td>DFW</td>\n",
       "      <td>224</td>\n",
       "      <td>5.0</td>\n",
       "      <td>17.0</td>\n",
       "      <td>0</td>\n",
       "      <td>NaN</td>\n",
       "      <td>0</td>\n",
       "    </tr>\n",
       "    <tr>\n",
       "      <th>3</th>\n",
       "      <td>2011</td>\n",
       "      <td>1</td>\n",
       "      <td>4</td>\n",
       "      <td>2</td>\n",
       "      <td>1403.0</td>\n",
       "      <td>1513.0</td>\n",
       "      <td>AA</td>\n",
       "      <td>428</td>\n",
       "      <td>N403AA</td>\n",
       "      <td>70.0</td>\n",
       "      <td>...</td>\n",
       "      <td>3.0</td>\n",
       "      <td>3.0</td>\n",
       "      <td>IAH</td>\n",
       "      <td>DFW</td>\n",
       "      <td>224</td>\n",
       "      <td>9.0</td>\n",
       "      <td>22.0</td>\n",
       "      <td>0</td>\n",
       "      <td>NaN</td>\n",
       "      <td>0</td>\n",
       "    </tr>\n",
       "    <tr>\n",
       "      <th>4</th>\n",
       "      <td>2011</td>\n",
       "      <td>1</td>\n",
       "      <td>5</td>\n",
       "      <td>3</td>\n",
       "      <td>1405.0</td>\n",
       "      <td>1507.0</td>\n",
       "      <td>AA</td>\n",
       "      <td>428</td>\n",
       "      <td>N492AA</td>\n",
       "      <td>62.0</td>\n",
       "      <td>...</td>\n",
       "      <td>-3.0</td>\n",
       "      <td>5.0</td>\n",
       "      <td>IAH</td>\n",
       "      <td>DFW</td>\n",
       "      <td>224</td>\n",
       "      <td>9.0</td>\n",
       "      <td>9.0</td>\n",
       "      <td>0</td>\n",
       "      <td>NaN</td>\n",
       "      <td>0</td>\n",
       "    </tr>\n",
       "  </tbody>\n",
       "</table>\n",
       "<p>5 rows × 21 columns</p>\n",
       "</div>"
      ],
      "text/plain": [
       "   Year  Month  DayofMonth  DayOfWeek  DepTime  ArrTime UniqueCarrier  \\\n",
       "0  2011      1           1          6   1400.0   1500.0            AA   \n",
       "1  2011      1           2          7   1401.0   1501.0            AA   \n",
       "2  2011      1           3          1   1352.0   1502.0            AA   \n",
       "3  2011      1           4          2   1403.0   1513.0            AA   \n",
       "4  2011      1           5          3   1405.0   1507.0            AA   \n",
       "\n",
       "   FlightNum TailNum  ActualElapsedTime  ...  ArrDelay  DepDelay  Origin Dest  \\\n",
       "0        428  N576AA               60.0  ...     -10.0       0.0     IAH  DFW   \n",
       "1        428  N557AA               60.0  ...      -9.0       1.0     IAH  DFW   \n",
       "2        428  N541AA               70.0  ...      -8.0      -8.0     IAH  DFW   \n",
       "3        428  N403AA               70.0  ...       3.0       3.0     IAH  DFW   \n",
       "4        428  N492AA               62.0  ...      -3.0       5.0     IAH  DFW   \n",
       "\n",
       "  Distance  TaxiIn  TaxiOut  Cancelled  CancellationCode Diverted  \n",
       "0      224     7.0     13.0          0               NaN        0  \n",
       "1      224     6.0      9.0          0               NaN        0  \n",
       "2      224     5.0     17.0          0               NaN        0  \n",
       "3      224     9.0     22.0          0               NaN        0  \n",
       "4      224     9.0      9.0          0               NaN        0  \n",
       "\n",
       "[5 rows x 21 columns]"
      ]
     },
     "execution_count": 3,
     "metadata": {},
     "output_type": "execute_result"
    }
   ],
   "source": [
    "hflight_df.head()"
   ]
  },
  {
   "cell_type": "markdown",
   "metadata": {},
   "source": [
    "For finding the no of rows and columns of the data set using shape function."
   ]
  },
  {
   "cell_type": "code",
   "execution_count": 4,
   "metadata": {},
   "outputs": [
    {
     "data": {
      "text/plain": [
       "(20000, 21)"
      ]
     },
     "execution_count": 4,
     "metadata": {},
     "output_type": "execute_result"
    }
   ],
   "source": [
    "hflight_df.shape"
   ]
  },
  {
   "cell_type": "markdown",
   "metadata": {},
   "source": [
    "In Hflight Data set 20000 rows and 21 columns are present.\n",
    "\n",
    "To understand the data set more using info() method which gives more information about non null values and there data types."
   ]
  },
  {
   "cell_type": "code",
   "execution_count": 5,
   "metadata": {},
   "outputs": [
    {
     "name": "stdout",
     "output_type": "stream",
     "text": [
      "<class 'pandas.core.frame.DataFrame'>\n",
      "RangeIndex: 20000 entries, 0 to 19999\n",
      "Data columns (total 21 columns):\n",
      " #   Column             Non-Null Count  Dtype  \n",
      "---  ------             --------------  -----  \n",
      " 0   Year               20000 non-null  int64  \n",
      " 1   Month              20000 non-null  int64  \n",
      " 2   DayofMonth         20000 non-null  int64  \n",
      " 3   DayOfWeek          20000 non-null  int64  \n",
      " 4   DepTime            19785 non-null  float64\n",
      " 5   ArrTime            19766 non-null  float64\n",
      " 6   UniqueCarrier      20000 non-null  object \n",
      " 7   FlightNum          20000 non-null  int64  \n",
      " 8   TailNum            19892 non-null  object \n",
      " 9   ActualElapsedTime  19738 non-null  float64\n",
      " 10  AirTime            19738 non-null  float64\n",
      " 11  ArrDelay           19738 non-null  float64\n",
      " 12  DepDelay           19785 non-null  float64\n",
      " 13  Origin             20000 non-null  object \n",
      " 14  Dest               20000 non-null  object \n",
      " 15  Distance           20000 non-null  int64  \n",
      " 16  TaxiIn             19766 non-null  float64\n",
      " 17  TaxiOut            19780 non-null  float64\n",
      " 18  Cancelled          20000 non-null  int64  \n",
      " 19  CancellationCode   224 non-null    object \n",
      " 20  Diverted           20000 non-null  int64  \n",
      "dtypes: float64(8), int64(8), object(5)\n",
      "memory usage: 3.2+ MB\n"
     ]
    }
   ],
   "source": [
    "hflight_df.info()"
   ]
  },
  {
   "cell_type": "markdown",
   "metadata": {},
   "source": [
    "* Defining the statistical summary of the data set using the describe() function."
   ]
  },
  {
   "cell_type": "code",
   "execution_count": 6,
   "metadata": {},
   "outputs": [
    {
     "data": {
      "text/html": [
       "<div>\n",
       "<style scoped>\n",
       "    .dataframe tbody tr th:only-of-type {\n",
       "        vertical-align: middle;\n",
       "    }\n",
       "\n",
       "    .dataframe tbody tr th {\n",
       "        vertical-align: top;\n",
       "    }\n",
       "\n",
       "    .dataframe thead th {\n",
       "        text-align: right;\n",
       "    }\n",
       "</style>\n",
       "<table border=\"1\" class=\"dataframe\">\n",
       "  <thead>\n",
       "    <tr style=\"text-align: right;\">\n",
       "      <th></th>\n",
       "      <th>Year</th>\n",
       "      <th>Month</th>\n",
       "      <th>DayofMonth</th>\n",
       "      <th>DayOfWeek</th>\n",
       "      <th>DepTime</th>\n",
       "      <th>ArrTime</th>\n",
       "      <th>FlightNum</th>\n",
       "      <th>ActualElapsedTime</th>\n",
       "      <th>AirTime</th>\n",
       "      <th>ArrDelay</th>\n",
       "      <th>DepDelay</th>\n",
       "      <th>Distance</th>\n",
       "      <th>TaxiIn</th>\n",
       "      <th>TaxiOut</th>\n",
       "      <th>Cancelled</th>\n",
       "      <th>Diverted</th>\n",
       "    </tr>\n",
       "  </thead>\n",
       "  <tbody>\n",
       "    <tr>\n",
       "      <th>count</th>\n",
       "      <td>20000.0</td>\n",
       "      <td>20000.000000</td>\n",
       "      <td>20000.000000</td>\n",
       "      <td>20000.000000</td>\n",
       "      <td>19785.000000</td>\n",
       "      <td>19766.000000</td>\n",
       "      <td>20000.000000</td>\n",
       "      <td>19738.000000</td>\n",
       "      <td>19738.000000</td>\n",
       "      <td>19738.000000</td>\n",
       "      <td>19785.000000</td>\n",
       "      <td>20000.000000</td>\n",
       "      <td>19766.000000</td>\n",
       "      <td>19780.000000</td>\n",
       "      <td>20000.000000</td>\n",
       "      <td>20000.000000</td>\n",
       "    </tr>\n",
       "    <tr>\n",
       "      <th>mean</th>\n",
       "      <td>2011.0</td>\n",
       "      <td>1.054500</td>\n",
       "      <td>16.319000</td>\n",
       "      <td>4.020300</td>\n",
       "      <td>1396.328228</td>\n",
       "      <td>1586.669382</td>\n",
       "      <td>1626.416900</td>\n",
       "      <td>126.795319</td>\n",
       "      <td>105.584355</td>\n",
       "      <td>5.205340</td>\n",
       "      <td>8.297700</td>\n",
       "      <td>772.899550</td>\n",
       "      <td>6.076546</td>\n",
       "      <td>15.134328</td>\n",
       "      <td>0.011200</td>\n",
       "      <td>0.001900</td>\n",
       "    </tr>\n",
       "    <tr>\n",
       "      <th>std</th>\n",
       "      <td>0.0</td>\n",
       "      <td>0.227007</td>\n",
       "      <td>9.025692</td>\n",
       "      <td>2.096904</td>\n",
       "      <td>441.598739</td>\n",
       "      <td>458.489922</td>\n",
       "      <td>1142.067143</td>\n",
       "      <td>60.158125</td>\n",
       "      <td>57.655970</td>\n",
       "      <td>25.383494</td>\n",
       "      <td>23.934218</td>\n",
       "      <td>458.640531</td>\n",
       "      <td>4.085732</td>\n",
       "      <td>7.046056</td>\n",
       "      <td>0.105238</td>\n",
       "      <td>0.043549</td>\n",
       "    </tr>\n",
       "    <tr>\n",
       "      <th>min</th>\n",
       "      <td>2011.0</td>\n",
       "      <td>1.000000</td>\n",
       "      <td>1.000000</td>\n",
       "      <td>1.000000</td>\n",
       "      <td>1.000000</td>\n",
       "      <td>1.000000</td>\n",
       "      <td>1.000000</td>\n",
       "      <td>35.000000</td>\n",
       "      <td>23.000000</td>\n",
       "      <td>-49.000000</td>\n",
       "      <td>-18.000000</td>\n",
       "      <td>127.000000</td>\n",
       "      <td>1.000000</td>\n",
       "      <td>4.000000</td>\n",
       "      <td>0.000000</td>\n",
       "      <td>0.000000</td>\n",
       "    </tr>\n",
       "    <tr>\n",
       "      <th>25%</th>\n",
       "      <td>2011.0</td>\n",
       "      <td>1.000000</td>\n",
       "      <td>8.000000</td>\n",
       "      <td>2.000000</td>\n",
       "      <td>1026.000000</td>\n",
       "      <td>1224.250000</td>\n",
       "      <td>582.000000</td>\n",
       "      <td>74.000000</td>\n",
       "      <td>54.000000</td>\n",
       "      <td>-8.000000</td>\n",
       "      <td>-3.000000</td>\n",
       "      <td>351.000000</td>\n",
       "      <td>4.000000</td>\n",
       "      <td>10.000000</td>\n",
       "      <td>0.000000</td>\n",
       "      <td>0.000000</td>\n",
       "    </tr>\n",
       "    <tr>\n",
       "      <th>50%</th>\n",
       "      <td>2011.0</td>\n",
       "      <td>1.000000</td>\n",
       "      <td>17.000000</td>\n",
       "      <td>4.000000</td>\n",
       "      <td>1416.000000</td>\n",
       "      <td>1620.000000</td>\n",
       "      <td>1644.000000</td>\n",
       "      <td>123.000000</td>\n",
       "      <td>102.000000</td>\n",
       "      <td>0.000000</td>\n",
       "      <td>1.000000</td>\n",
       "      <td>787.000000</td>\n",
       "      <td>5.000000</td>\n",
       "      <td>14.000000</td>\n",
       "      <td>0.000000</td>\n",
       "      <td>0.000000</td>\n",
       "    </tr>\n",
       "    <tr>\n",
       "      <th>75%</th>\n",
       "      <td>2011.0</td>\n",
       "      <td>1.000000</td>\n",
       "      <td>25.000000</td>\n",
       "      <td>6.000000</td>\n",
       "      <td>1801.000000</td>\n",
       "      <td>1955.000000</td>\n",
       "      <td>2536.000000</td>\n",
       "      <td>162.000000</td>\n",
       "      <td>138.000000</td>\n",
       "      <td>11.000000</td>\n",
       "      <td>10.000000</td>\n",
       "      <td>1034.000000</td>\n",
       "      <td>7.000000</td>\n",
       "      <td>18.000000</td>\n",
       "      <td>0.000000</td>\n",
       "      <td>0.000000</td>\n",
       "    </tr>\n",
       "    <tr>\n",
       "      <th>max</th>\n",
       "      <td>2011.0</td>\n",
       "      <td>2.000000</td>\n",
       "      <td>31.000000</td>\n",
       "      <td>7.000000</td>\n",
       "      <td>2335.000000</td>\n",
       "      <td>2400.000000</td>\n",
       "      <td>7037.000000</td>\n",
       "      <td>539.000000</td>\n",
       "      <td>499.000000</td>\n",
       "      <td>775.000000</td>\n",
       "      <td>780.000000</td>\n",
       "      <td>3904.000000</td>\n",
       "      <td>140.000000</td>\n",
       "      <td>78.000000</td>\n",
       "      <td>1.000000</td>\n",
       "      <td>1.000000</td>\n",
       "    </tr>\n",
       "  </tbody>\n",
       "</table>\n",
       "</div>"
      ],
      "text/plain": [
       "          Year         Month    DayofMonth     DayOfWeek       DepTime  \\\n",
       "count  20000.0  20000.000000  20000.000000  20000.000000  19785.000000   \n",
       "mean    2011.0      1.054500     16.319000      4.020300   1396.328228   \n",
       "std        0.0      0.227007      9.025692      2.096904    441.598739   \n",
       "min     2011.0      1.000000      1.000000      1.000000      1.000000   \n",
       "25%     2011.0      1.000000      8.000000      2.000000   1026.000000   \n",
       "50%     2011.0      1.000000     17.000000      4.000000   1416.000000   \n",
       "75%     2011.0      1.000000     25.000000      6.000000   1801.000000   \n",
       "max     2011.0      2.000000     31.000000      7.000000   2335.000000   \n",
       "\n",
       "            ArrTime     FlightNum  ActualElapsedTime       AirTime  \\\n",
       "count  19766.000000  20000.000000       19738.000000  19738.000000   \n",
       "mean    1586.669382   1626.416900         126.795319    105.584355   \n",
       "std      458.489922   1142.067143          60.158125     57.655970   \n",
       "min        1.000000      1.000000          35.000000     23.000000   \n",
       "25%     1224.250000    582.000000          74.000000     54.000000   \n",
       "50%     1620.000000   1644.000000         123.000000    102.000000   \n",
       "75%     1955.000000   2536.000000         162.000000    138.000000   \n",
       "max     2400.000000   7037.000000         539.000000    499.000000   \n",
       "\n",
       "           ArrDelay      DepDelay      Distance        TaxiIn       TaxiOut  \\\n",
       "count  19738.000000  19785.000000  20000.000000  19766.000000  19780.000000   \n",
       "mean       5.205340      8.297700    772.899550      6.076546     15.134328   \n",
       "std       25.383494     23.934218    458.640531      4.085732      7.046056   \n",
       "min      -49.000000    -18.000000    127.000000      1.000000      4.000000   \n",
       "25%       -8.000000     -3.000000    351.000000      4.000000     10.000000   \n",
       "50%        0.000000      1.000000    787.000000      5.000000     14.000000   \n",
       "75%       11.000000     10.000000   1034.000000      7.000000     18.000000   \n",
       "max      775.000000    780.000000   3904.000000    140.000000     78.000000   \n",
       "\n",
       "          Cancelled      Diverted  \n",
       "count  20000.000000  20000.000000  \n",
       "mean       0.011200      0.001900  \n",
       "std        0.105238      0.043549  \n",
       "min        0.000000      0.000000  \n",
       "25%        0.000000      0.000000  \n",
       "50%        0.000000      0.000000  \n",
       "75%        0.000000      0.000000  \n",
       "max        1.000000      1.000000  "
      ]
     },
     "execution_count": 6,
     "metadata": {},
     "output_type": "execute_result"
    }
   ],
   "source": [
    "hflight_df.describe()"
   ]
  },
  {
   "cell_type": "markdown",
   "metadata": {},
   "source": [
    "## Understanding of Data - "
   ]
  },
  {
   "cell_type": "markdown",
   "metadata": {},
   "source": [
    "* Checking total null values present in each column if the dataset using isnull() function and for total using sum() function."
   ]
  },
  {
   "cell_type": "code",
   "execution_count": 7,
   "metadata": {},
   "outputs": [
    {
     "data": {
      "text/plain": [
       "Year                     0\n",
       "Month                    0\n",
       "DayofMonth               0\n",
       "DayOfWeek                0\n",
       "DepTime                215\n",
       "ArrTime                234\n",
       "UniqueCarrier            0\n",
       "FlightNum                0\n",
       "TailNum                108\n",
       "ActualElapsedTime      262\n",
       "AirTime                262\n",
       "ArrDelay               262\n",
       "DepDelay               215\n",
       "Origin                   0\n",
       "Dest                     0\n",
       "Distance                 0\n",
       "TaxiIn                 234\n",
       "TaxiOut                220\n",
       "Cancelled                0\n",
       "CancellationCode     19776\n",
       "Diverted                 0\n",
       "dtype: int64"
      ]
     },
     "execution_count": 7,
     "metadata": {},
     "output_type": "execute_result"
    }
   ],
   "source": [
    "hflight_df.isnull().sum()"
   ]
  },
  {
   "cell_type": "markdown",
   "metadata": {},
   "source": [
    "* Checking Month column if there are all the days data is present for each month and using nunique() function which will give total no of days."
   ]
  },
  {
   "cell_type": "code",
   "execution_count": 8,
   "metadata": {},
   "outputs": [
    {
     "name": "stdout",
     "output_type": "stream",
     "text": [
      "{1, 2}\n"
     ]
    }
   ],
   "source": [
    "#Unique months present in month column\n",
    "print(set(hflight_df['Month'].to_list()))"
   ]
  },
  {
   "cell_type": "markdown",
   "metadata": {},
   "source": [
    "    Only Januray and February month data is present in the Month column"
   ]
  },
  {
   "cell_type": "code",
   "execution_count": 9,
   "metadata": {},
   "outputs": [
    {
     "name": "stdout",
     "output_type": "stream",
     "text": [
      "Januray month has total number of days :  31\n",
      "February month has total number of days :  28\n"
     ]
    }
   ],
   "source": [
    "for i in set(hflight_df['Month'].to_list()):\n",
    "    if i == 1:\n",
    "        print('Januray month has total number of days : ',hflight_df[hflight_df['Month']==i].DayofMonth.nunique())\n",
    "    if i == 2:\n",
    "        print('February month has total number of days : ',hflight_df[hflight_df['Month']==i].DayofMonth.nunique())\n",
    "        "
   ]
  },
  {
   "cell_type": "markdown",
   "metadata": {},
   "source": [
    "    All the days are present in Januray and Feburay month data so data is clean for month column."
   ]
  },
  {
   "cell_type": "markdown",
   "metadata": {},
   "source": [
    "* Finding distict origin present in the dataset"
   ]
  },
  {
   "cell_type": "code",
   "execution_count": 10,
   "metadata": {},
   "outputs": [
    {
     "name": "stdout",
     "output_type": "stream",
     "text": [
      "these 2 airports are present in the dataset  {'HOU', 'IAH'}\n"
     ]
    }
   ],
   "source": [
    "#Unique origin present in Origin column\n",
    "print('these 2 airports are present in the dataset ',set(hflight_df['Origin'].to_list()))"
   ]
  },
  {
   "cell_type": "markdown",
   "metadata": {},
   "source": [
    "* For the analysis it is important to know what all distinct carriers are operating from the origin"
   ]
  },
  {
   "cell_type": "code",
   "execution_count": 11,
   "metadata": {},
   "outputs": [
    {
     "name": "stdout",
     "output_type": "stream",
     "text": [
      "Unique Carrier operated from the Houston -\n",
      " {'AS', 'EV', 'FL', 'F9', 'CO', 'XE', 'DL', 'US', 'OO', 'WN', 'MQ', 'AA', 'UA', 'B6'}\n",
      "No of unique Carrier operating from the Houston - 14\n"
     ]
    }
   ],
   "source": [
    "#Unique origin present in UniqueCarrier column\n",
    "print('Unique Carrier operated from the Houston -\\n',set(hflight_df['UniqueCarrier'].to_list()))\n",
    "print('No of unique Carrier operating from the Houston -',len(set(hflight_df['UniqueCarrier'].to_list())))"
   ]
  },
  {
   "cell_type": "markdown",
   "metadata": {},
   "source": [
    "* Finding out distinct destinations present in the Dataset"
   ]
  },
  {
   "cell_type": "code",
   "execution_count": 12,
   "metadata": {},
   "outputs": [
    {
     "name": "stdout",
     "output_type": "stream",
     "text": [
      "For these different destinations flights operates from Houston -\n",
      "\n",
      " {'ORF', 'CHS', 'RDU', 'EGE', 'CLT', 'SLC', 'MSP', 'TUS', 'TYS', 'HSV', 'CLE', 'LGA', 'OKC', 'SAT', 'SJU', 'MKE', 'PIT', 'PHL', 'AEX', 'GSP', 'SMF', 'BWI', 'ELP', 'MCO', 'SHV', 'MFE', 'LEX', 'MSY', 'PHX', 'SAN', 'ATL', 'BRO', 'CRP', 'ASE', 'SEA', 'CMH', 'ORD', 'ICT', 'LAX', 'TUL', 'LFT', 'LBB', 'AMA', 'BNA', 'TPA', 'RNO', 'DFW', 'BTR', 'LAS', 'MCI', 'HNL', 'IAD', 'MOB', 'SJC', 'SDF', 'MEM', 'ECP', 'JFK', 'DAL', 'GRR', 'HRL', 'DCA', 'OMA', 'CAE', 'JAX', 'SAV', 'AVL', 'PBI', 'GUC', 'RIC', 'OAK', 'BHM', 'COS', 'DTW', 'ONT', 'DEN', 'EWR', 'VPS', 'SFO', 'AUS', 'DSM', 'XNA', 'LIT', 'LRD', 'CVG', 'DAY', 'CRW', 'PDX', 'MIA', 'GPT', 'GSO', 'MAF', 'GRK', 'IND', 'BOS', 'PNS', 'SNA', 'HDN', 'ABQ', 'MTJ', 'LCH', 'MDW', 'FLL', 'RSW', 'STL', 'JAN'}\n",
      "\n",
      "No of different destinations - 106\n"
     ]
    }
   ],
   "source": [
    "print('For these different destinations flights operates from Houston -\\n\\n',set(hflight_df['Dest'].to_list()))\n",
    "print('')\n",
    "print('No of different destinations -',len(set(hflight_df['Dest'].to_list())))"
   ]
  },
  {
   "cell_type": "markdown",
   "metadata": {},
   "source": [
    "# Research Questions -"
   ]
  },
  {
   "cell_type": "markdown",
   "metadata": {},
   "source": [
    "**Research questions and steps to provide answers of the following questions**\n",
    "\n",
    " `Which are the busiest day in a week at Houston airport?`\n",
    "- Step - For finding the busiest day we can get the total number of flight for each day in a week and plot a bar char.\n",
    "\n",
    "`Which Houston airport origin has more flight options ie 'IAH' or 'HOU'?`\n",
    "- Step - This can be find with help of number of total flight from the both origin. Bar plot can suitable representation for showing their difference.\n",
    "\n",
    "`Which Carrier has maximum flights from Houston airport?`\n",
    "- Step - For answering this question we can plot the bar chart for each carrier and total no of flights for respective carrier.\n",
    "\n",
    "`Which carrier has minimum arrival delay and departure delay?`\n",
    "- Step - This can be answer with the side by side bar chart between each carrier and there average arrival and departure delay.\n",
    "\n",
    "`Which destination is farthest from Houston airport and how many flights are available for that destination?`\n",
    "- Step - This can be answer by the bar chart between each destination and average distance for destination.\n",
    " \n",
    "`Which day of week has highest number of cancelled flights?`\n",
    "- Step - For answering this question we can plot a bar chart between each day and total number of cancelled flight for respective day."
   ]
  },
  {
   "cell_type": "markdown",
   "metadata": {},
   "source": [
    "## Data Preparation for Research Question 1-5 - "
   ]
  },
  {
   "cell_type": "markdown",
   "metadata": {},
   "source": [
    "For doing analysis for above mentioned Research question first creating a subset of the data with the required columns. which are as follows:\n",
    "\n",
    "• DayOfWeek: day of week of departure\n",
    "\n",
    "• UniqueCarrier: unique abbreviation for a carrier\n",
    "\n",
    "• FlightNum: flight number\n",
    "\n",
    "• ArrDelay: arrival delay, in minutes,\n",
    "\n",
    "• DepDelay: departure delay, in minutes\n",
    "\n",
    "• Origin: origin airport code\n",
    "\n",
    "• Dest: destination airport code\n",
    "\n",
    "• Distance: distance of flight, in miles"
   ]
  },
  {
   "cell_type": "code",
   "execution_count": 13,
   "metadata": {},
   "outputs": [
    {
     "data": {
      "text/html": [
       "<div>\n",
       "<style scoped>\n",
       "    .dataframe tbody tr th:only-of-type {\n",
       "        vertical-align: middle;\n",
       "    }\n",
       "\n",
       "    .dataframe tbody tr th {\n",
       "        vertical-align: top;\n",
       "    }\n",
       "\n",
       "    .dataframe thead th {\n",
       "        text-align: right;\n",
       "    }\n",
       "</style>\n",
       "<table border=\"1\" class=\"dataframe\">\n",
       "  <thead>\n",
       "    <tr style=\"text-align: right;\">\n",
       "      <th></th>\n",
       "      <th>DayOfWeek</th>\n",
       "      <th>UniqueCarrier</th>\n",
       "      <th>FlightNum</th>\n",
       "      <th>ArrDelay</th>\n",
       "      <th>DepDelay</th>\n",
       "      <th>Origin</th>\n",
       "      <th>Dest</th>\n",
       "      <th>Distance</th>\n",
       "    </tr>\n",
       "  </thead>\n",
       "  <tbody>\n",
       "    <tr>\n",
       "      <th>0</th>\n",
       "      <td>6</td>\n",
       "      <td>AA</td>\n",
       "      <td>428</td>\n",
       "      <td>-10.0</td>\n",
       "      <td>0.0</td>\n",
       "      <td>IAH</td>\n",
       "      <td>DFW</td>\n",
       "      <td>224</td>\n",
       "    </tr>\n",
       "    <tr>\n",
       "      <th>1</th>\n",
       "      <td>7</td>\n",
       "      <td>AA</td>\n",
       "      <td>428</td>\n",
       "      <td>-9.0</td>\n",
       "      <td>1.0</td>\n",
       "      <td>IAH</td>\n",
       "      <td>DFW</td>\n",
       "      <td>224</td>\n",
       "    </tr>\n",
       "    <tr>\n",
       "      <th>2</th>\n",
       "      <td>1</td>\n",
       "      <td>AA</td>\n",
       "      <td>428</td>\n",
       "      <td>-8.0</td>\n",
       "      <td>-8.0</td>\n",
       "      <td>IAH</td>\n",
       "      <td>DFW</td>\n",
       "      <td>224</td>\n",
       "    </tr>\n",
       "    <tr>\n",
       "      <th>3</th>\n",
       "      <td>2</td>\n",
       "      <td>AA</td>\n",
       "      <td>428</td>\n",
       "      <td>3.0</td>\n",
       "      <td>3.0</td>\n",
       "      <td>IAH</td>\n",
       "      <td>DFW</td>\n",
       "      <td>224</td>\n",
       "    </tr>\n",
       "    <tr>\n",
       "      <th>4</th>\n",
       "      <td>3</td>\n",
       "      <td>AA</td>\n",
       "      <td>428</td>\n",
       "      <td>-3.0</td>\n",
       "      <td>5.0</td>\n",
       "      <td>IAH</td>\n",
       "      <td>DFW</td>\n",
       "      <td>224</td>\n",
       "    </tr>\n",
       "  </tbody>\n",
       "</table>\n",
       "</div>"
      ],
      "text/plain": [
       "   DayOfWeek UniqueCarrier  FlightNum  ArrDelay  DepDelay Origin Dest  \\\n",
       "0          6            AA        428     -10.0       0.0    IAH  DFW   \n",
       "1          7            AA        428      -9.0       1.0    IAH  DFW   \n",
       "2          1            AA        428      -8.0      -8.0    IAH  DFW   \n",
       "3          2            AA        428       3.0       3.0    IAH  DFW   \n",
       "4          3            AA        428      -3.0       5.0    IAH  DFW   \n",
       "\n",
       "   Distance  \n",
       "0       224  \n",
       "1       224  \n",
       "2       224  \n",
       "3       224  \n",
       "4       224  "
      ]
     },
     "execution_count": 13,
     "metadata": {},
     "output_type": "execute_result"
    }
   ],
   "source": [
    "# Preparing a subset of Dataset for analysis\n",
    "\n",
    "hflights_df = hflight_df[['DayOfWeek','UniqueCarrier','FlightNum','ArrDelay','DepDelay','Origin','Dest','Distance']]\n",
    "\n",
    "#using head() function for reviewing the selected columns\n",
    "hflights_df.head()"
   ]
  },
  {
   "cell_type": "markdown",
   "metadata": {},
   "source": [
    "Number of rows and column present in the data set can be determine by the shape function."
   ]
  },
  {
   "cell_type": "code",
   "execution_count": 14,
   "metadata": {},
   "outputs": [
    {
     "data": {
      "text/plain": [
       "(20000, 8)"
      ]
     },
     "execution_count": 14,
     "metadata": {},
     "output_type": "execute_result"
    }
   ],
   "source": [
    "hflights_df.shape"
   ]
  },
  {
   "cell_type": "markdown",
   "metadata": {},
   "source": [
    "Now we need to check if there are any null values present in the dataset using is null function and calculating the count of null values."
   ]
  },
  {
   "cell_type": "code",
   "execution_count": 15,
   "metadata": {},
   "outputs": [
    {
     "data": {
      "text/plain": [
       "DayOfWeek          0\n",
       "UniqueCarrier      0\n",
       "FlightNum          0\n",
       "ArrDelay         262\n",
       "DepDelay         215\n",
       "Origin             0\n",
       "Dest               0\n",
       "Distance           0\n",
       "dtype: int64"
      ]
     },
     "execution_count": 15,
     "metadata": {},
     "output_type": "execute_result"
    }
   ],
   "source": [
    "hflights_df.isnull().sum()"
   ]
  },
  {
   "cell_type": "markdown",
   "metadata": {},
   "source": [
    "There are some missing values in ArrDelay and DepDelay columns. These values are missing because the cancelled flights so we are dropping the rows where values are missing. We need to drop these values because we are going to calculate average arrival and departure delay otherwise it will impact the mean values."
   ]
  },
  {
   "cell_type": "code",
   "execution_count": 16,
   "metadata": {},
   "outputs": [],
   "source": [
    "#Dropping ArrDelay and DepDelay null values\n",
    "hflights_df1 = hflights_df.copy()\n",
    "hflights_df1.dropna(subset=['ArrDelay','DepDelay'],inplace=True) # using dropna() function for dropping null values"
   ]
  },
  {
   "cell_type": "markdown",
   "metadata": {},
   "source": [
    "Checking the shape of the dataframe after dropping values"
   ]
  },
  {
   "cell_type": "code",
   "execution_count": 17,
   "metadata": {},
   "outputs": [
    {
     "data": {
      "text/plain": [
       "(19738, 8)"
      ]
     },
     "execution_count": 17,
     "metadata": {},
     "output_type": "execute_result"
    }
   ],
   "source": [
    "hflights_df1.shape"
   ]
  },
  {
   "cell_type": "markdown",
   "metadata": {},
   "source": [
    "## Preliminary Data Analysis (RQ 1-5) - "
   ]
  },
  {
   "cell_type": "markdown",
   "metadata": {},
   "source": [
    "#### 1. Which are the busiest day in a week at Houston airport?"
   ]
  },
  {
   "cell_type": "markdown",
   "metadata": {},
   "source": [
    "For finding the busiest day in week first we need find the total no of flights from Houston for each day in a week and use a bar plot for presenting it. We are creating Bar plot between DayOfWeek and number of FlightNum."
   ]
  },
  {
   "cell_type": "markdown",
   "metadata": {},
   "source": [
    "using groupby() function with DayOfWeek column for getting total number of flights for each day "
   ]
  },
  {
   "cell_type": "code",
   "execution_count": 18,
   "metadata": {},
   "outputs": [
    {
     "data": {
      "image/png": "[encoded data removed]",
      "text/plain": [
       "<Figure size 720x360 with 1 Axes>"
      ]
     },
     "metadata": {
      "needs_background": "light"
     },
     "output_type": "display_data"
    }
   ],
   "source": [
    "Busiest_day_plot = hflights_df1.groupby(\"DayOfWeek\")[\"FlightNum\"].count().plot(kind='bar',figsize=(10, 5))\n",
    "Busiest_day_plot.set_ylabel('Total No of Flight')\n",
    "Busiest_day_plot;"
   ]
  },
  {
   "cell_type": "markdown",
   "metadata": {},
   "source": [
    "Creating a pandas series to represent the name of each day in a week"
   ]
  },
  {
   "cell_type": "code",
   "execution_count": 19,
   "metadata": {},
   "outputs": [
    {
     "data": {
      "text/plain": [
       "1       Monday\n",
       "2      Tuesday\n",
       "3    Wednesday\n",
       "4     Thursday\n",
       "5       Friday\n",
       "6     Saturday\n",
       "7       Sunday\n",
       "dtype: object"
      ]
     },
     "execution_count": 19,
     "metadata": {},
     "output_type": "execute_result"
    }
   ],
   "source": [
    "DayOfWeek_name = pd.Series(['Monday','Tuesday','Wednesday','Thursday','Friday', 'Saturday','Sunday'],index=[1,2,3,4,5,6,7])\n",
    "DayOfWeek_name"
   ]
  },
  {
   "cell_type": "markdown",
   "metadata": {},
   "source": [
    "#### 2. Which Houston airport origin has more flight options ie 'IAH' or 'HOU'?"
   ]
  },
  {
   "cell_type": "markdown",
   "metadata": {},
   "source": [
    "Using groupby() function for grouping the origin and taking the count of flights for each group. Plotting the data using plot() function where plot kind is 'bar'"
   ]
  },
  {
   "cell_type": "code",
   "execution_count": 20,
   "metadata": {},
   "outputs": [
    {
     "data": {
      "image/png": "[encoded data removed]",
      "text/plain": [
       "<Figure size 432x288 with 1 Axes>"
      ]
     },
     "metadata": {
      "needs_background": "light"
     },
     "output_type": "display_data"
    }
   ],
   "source": [
    "Origin_no_of_flight_plot = hflights_df1.groupby(\"Origin\")[\"FlightNum\"].count().plot(kind='bar')\n",
    "Origin_no_of_flight_plot;"
   ]
  },
  {
   "cell_type": "markdown",
   "metadata": {},
   "source": [
    "#### 3. Which Carrier has maximum flights from Houston airport?"
   ]
  },
  {
   "cell_type": "markdown",
   "metadata": {},
   "source": [
    "First grouping the data for each carrier using groupby() function and taking the total count of flight using count() function. Then plotting a bar plot using plot() function."
   ]
  },
  {
   "cell_type": "code",
   "execution_count": 21,
   "metadata": {},
   "outputs": [
    {
     "data": {
      "image/png": "[encoded data removed]",
      "text/plain": [
       "<Figure size 720x432 with 1 Axes>"
      ]
     },
     "metadata": {
      "needs_background": "light"
     },
     "output_type": "display_data"
    }
   ],
   "source": [
    "Carrier_no_of_flight_plot = hflights_df1.groupby(\"UniqueCarrier\")[\"FlightNum\"].count().plot(kind='bar',figsize=(10, 6))\n",
    "Carrier_no_of_flight_plot.set_ylabel('Total No of Flights')\n",
    "Carrier_no_of_flight_plot;"
   ]
  },
  {
   "cell_type": "code",
   "execution_count": 22,
   "metadata": {},
   "outputs": [
    {
     "name": "stdout",
     "output_type": "stream",
     "text": [
      "Total count of Unique flights are as follows: \n"
     ]
    },
    {
     "data": {
      "text/plain": [
       "CO    6767\n",
       "XE    6711\n",
       "WN    3667\n",
       "OO     689\n",
       "AA     504\n",
       "MQ     325\n",
       "US     297\n",
       "DL     238\n",
       "FL     133\n",
       "UA      98\n",
       "EV      96\n",
       "B6      93\n",
       "F9      62\n",
       "AS      58\n",
       "Name: UniqueCarrier, dtype: int64"
      ]
     },
     "execution_count": 22,
     "metadata": {},
     "output_type": "execute_result"
    }
   ],
   "source": [
    "#using value count function for getting the count per flight \n",
    "print('Total count of Unique flights are as follows: ')\n",
    "hflights_df1['UniqueCarrier'].value_counts()"
   ]
  },
  {
   "cell_type": "markdown",
   "metadata": {},
   "source": [
    "#### 4. Which carrier has minimum arrival delay and departure delay?"
   ]
  },
  {
   "cell_type": "markdown",
   "metadata": {},
   "source": [
    "Using group by function for grouping uniquecarrier and for plotting the side by side by bar chart taking the subset of ArrDelay and DepDelay using plot() function."
   ]
  },
  {
   "cell_type": "code",
   "execution_count": 23,
   "metadata": {},
   "outputs": [
    {
     "data": {
      "image/png": "[encoded data removed]",
      "text/plain": [
       "<Figure size 720x432 with 1 Axes>"
      ]
     },
     "metadata": {
      "needs_background": "light"
     },
     "output_type": "display_data"
    }
   ],
   "source": [
    "Carrier_arr_dep_delay_plot = hflights_df1.groupby(\"UniqueCarrier\")[[\"ArrDelay\",'DepDelay']].mean().plot(kind='bar',figsize=(10, 6))\n",
    "Carrier_arr_dep_delay_plot.set_ylabel('Delay')\n",
    "Carrier_arr_dep_delay_plot;"
   ]
  },
  {
   "cell_type": "markdown",
   "metadata": {},
   "source": [
    "#### 5. Which destination is farthest from Houston airport and airlines runs for this destination from Houston?"
   ]
  },
  {
   "cell_type": "markdown",
   "metadata": {},
   "source": [
    "Using groupby() function for grouping 'Dest' and plotting the mean distance bar plot using plot() function "
   ]
  },
  {
   "cell_type": "code",
   "execution_count": 24,
   "metadata": {
    "scrolled": true
   },
   "outputs": [
    {
     "data": {
      "image/png": "[encoded data removed]",
      "text/plain": [
       "<Figure size 1296x432 with 1 Axes>"
      ]
     },
     "metadata": {
      "needs_background": "light"
     },
     "output_type": "display_data"
    }
   ],
   "source": [
    "Average_Distance_dest_plot = hflights_df1.groupby(\"Dest\")[\"Distance\"].mean().plot(kind='bar',figsize=(18,6))\n",
    "Average_Distance_dest_plot.set_ylabel('Average Distance')\n",
    "Average_Distance_dest_plot;"
   ]
  },
  {
   "cell_type": "markdown",
   "metadata": {},
   "source": [
    "Using unique() function getting the list of unique airlines where distance is maximum using max() function"
   ]
  },
  {
   "cell_type": "code",
   "execution_count": 25,
   "metadata": {},
   "outputs": [
    {
     "name": "stdout",
     "output_type": "stream",
     "text": [
      "['CO']  is the airline runs for honolulu destination.\n"
     ]
    }
   ],
   "source": [
    "Farthest_destn_airline = hflights_df1['UniqueCarrier'][(hflights_df1['Distance'] == max(hflights_df1['Distance'])) & (hflights_df1['Dest']=='HNL')].unique()\n",
    "print(Farthest_destn_airline,' is the airline runs for honolulu destination.')"
   ]
  },
  {
   "cell_type": "markdown",
   "metadata": {},
   "source": [
    "## Data Preparation for Research Question 6 -"
   ]
  },
  {
   "cell_type": "markdown",
   "metadata": {},
   "source": [
    "Taking the subset of data from the dataframe with following attributes:\n",
    "\n",
    "- DayOfWeek\n",
    "\n",
    "- UniqueCarrier\n",
    "\n",
    "- Cancelled\n",
    "\n",
    "- CancellationCode"
   ]
  },
  {
   "cell_type": "code",
   "execution_count": 26,
   "metadata": {},
   "outputs": [
    {
     "data": {
      "text/html": [
       "<div>\n",
       "<style scoped>\n",
       "    .dataframe tbody tr th:only-of-type {\n",
       "        vertical-align: middle;\n",
       "    }\n",
       "\n",
       "    .dataframe tbody tr th {\n",
       "        vertical-align: top;\n",
       "    }\n",
       "\n",
       "    .dataframe thead th {\n",
       "        text-align: right;\n",
       "    }\n",
       "</style>\n",
       "<table border=\"1\" class=\"dataframe\">\n",
       "  <thead>\n",
       "    <tr style=\"text-align: right;\">\n",
       "      <th></th>\n",
       "      <th>DayOfWeek</th>\n",
       "      <th>UniqueCarrier</th>\n",
       "      <th>Cancelled</th>\n",
       "      <th>CancellationCode</th>\n",
       "    </tr>\n",
       "  </thead>\n",
       "  <tbody>\n",
       "    <tr>\n",
       "      <th>194</th>\n",
       "      <td>1</td>\n",
       "      <td>AA</td>\n",
       "      <td>1</td>\n",
       "      <td>A</td>\n",
       "    </tr>\n",
       "    <tr>\n",
       "      <th>210</th>\n",
       "      <td>7</td>\n",
       "      <td>AA</td>\n",
       "      <td>1</td>\n",
       "      <td>B</td>\n",
       "    </tr>\n",
       "    <tr>\n",
       "      <th>323</th>\n",
       "      <td>2</td>\n",
       "      <td>B6</td>\n",
       "      <td>1</td>\n",
       "      <td>B</td>\n",
       "    </tr>\n",
       "    <tr>\n",
       "      <th>335</th>\n",
       "      <td>3</td>\n",
       "      <td>B6</td>\n",
       "      <td>1</td>\n",
       "      <td>A</td>\n",
       "    </tr>\n",
       "    <tr>\n",
       "      <th>347</th>\n",
       "      <td>4</td>\n",
       "      <td>B6</td>\n",
       "      <td>1</td>\n",
       "      <td>B</td>\n",
       "    </tr>\n",
       "  </tbody>\n",
       "</table>\n",
       "</div>"
      ],
      "text/plain": [
       "     DayOfWeek UniqueCarrier  Cancelled CancellationCode\n",
       "194          1            AA          1                A\n",
       "210          7            AA          1                B\n",
       "323          2            B6          1                B\n",
       "335          3            B6          1                A\n",
       "347          4            B6          1                B"
      ]
     },
     "execution_count": 26,
     "metadata": {},
     "output_type": "execute_result"
    }
   ],
   "source": [
    "hflights_df_cancelled = hflight_df[['DayOfWeek','UniqueCarrier','Cancelled','CancellationCode']][hflight_df['Cancelled']==1]\n",
    "#using head function to check the first5 rows of data\n",
    "hflights_df_cancelled.head()"
   ]
  },
  {
   "cell_type": "markdown",
   "metadata": {},
   "source": [
    "Checking null values in the dataset"
   ]
  },
  {
   "cell_type": "code",
   "execution_count": 27,
   "metadata": {},
   "outputs": [
    {
     "data": {
      "text/plain": [
       "DayOfWeek           0\n",
       "UniqueCarrier       0\n",
       "Cancelled           0\n",
       "CancellationCode    0\n",
       "dtype: int64"
      ]
     },
     "execution_count": 27,
     "metadata": {},
     "output_type": "execute_result"
    }
   ],
   "source": [
    "hflights_df_cancelled.isnull().sum()"
   ]
  },
  {
   "cell_type": "markdown",
   "metadata": {},
   "source": [
    "## Preliminary Data Analysis (RQ-6) - "
   ]
  },
  {
   "cell_type": "markdown",
   "metadata": {},
   "source": [
    "#### 6. Which day of week has highest number of cancelled flights ?"
   ]
  },
  {
   "cell_type": "markdown",
   "metadata": {},
   "source": [
    "Plotting bar plot using plot() function between sum of the cancelled flight using sum() for each day of a week. Grouping the DayOfWeek using groupby() function."
   ]
  },
  {
   "cell_type": "code",
   "execution_count": 28,
   "metadata": {},
   "outputs": [
    {
     "data": {
      "image/png": "[encoded data removed]",
      "text/plain": [
       "<Figure size 720x360 with 1 Axes>"
      ]
     },
     "metadata": {
      "needs_background": "light"
     },
     "output_type": "display_data"
    }
   ],
   "source": [
    "cancelled_flight_DayOfWeek_plot = hflights_df_cancelled.groupby(\"DayOfWeek\")[[\"Cancelled\"]].sum().plot(kind='bar',stacked=True,figsize=(10,5))\n",
    "cancelled_flight_DayOfWeek_plot.set_ylabel('Total number of cancelled flights')\n",
    "cancelled_flight_DayOfWeek_plot;"
   ]
  },
  {
   "cell_type": "markdown",
   "metadata": {},
   "source": [
    "## Research Result - "
   ]
  },
  {
   "cell_type": "markdown",
   "metadata": {},
   "source": [
    "<u>**Research results of the following questions -**</u>\n",
    "\n",
    "\n",
    "`Which are the busiest day in a week at Houston airport?`\n",
    "- From the bar graph we can observe that Monday and Sunday are the most busiest days at Houston airport.\n",
    "\n",
    "`Which Houston airport origin has more flight options ie 'IAH' or 'HOU'?`\n",
    "- From the bar plot it is really evident that there are more number of flights from the 'IAH' ie George Bush Intercontinental Airport.\n",
    "\n",
    "`Which Carrier has maximum flights from Houston airport?`\n",
    "- From the Bar plot we can see carrier 'CO' which is 'Continental Airlines' and 'XE' which is 'JetSuiteX' has the maximum number of flights from Houston Airport. But it's difficult say name of one carrier from graph which has maximum number of flight. So now we are finding the number of flight for each carrier. \n",
    "\n",
    "`Which carrier has minimum arrival delay and departure delay?`\n",
    "- The overall performance in terms of arrival delay and departure delay 'United Airlines', 'US Airways' and 'American Airlines' has better performance comparatively other airlines.\n",
    "\n",
    "`Which destination is farthest from Houston airport and airlines runs for this destination from Houston?`\n",
    "- Honolulu(HNL) is the farthest destination from Houston airport. 'Continental Airlines' runs from Houston for Honolulu.\n",
    "\n",
    "`Which day of week has highest number of cancelled flights ?`\n",
    "- Monday has the maximum number of cancelled flight and Saturday has the minimum number of cancelled flights."
   ]
  },
  {
   "cell_type": "code",
   "execution_count": null,
   "metadata": {},
   "outputs": [],
   "source": []
  }
 ],
 "metadata": {
  "kernelspec": {
   "display_name": "Python 3",
   "language": "python",
   "name": "python3"
  },
  "language_info": {
   "codemirror_mode": {
    "name": "ipython",
    "version": 3
   },
   "file_extension": ".py",
   "mimetype": "text/x-python",
   "name": "python",
   "nbconvert_exporter": "python",
   "pygments_lexer": "ipython3",
   "version": "3.8.5"
  }
 },
 "nbformat": 4,
 "nbformat_minor": 4
}
